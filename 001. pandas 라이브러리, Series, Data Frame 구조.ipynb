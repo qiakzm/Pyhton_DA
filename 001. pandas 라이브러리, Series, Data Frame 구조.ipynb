{
 "cells": [
  {
   "cell_type": "code",
   "execution_count": 1,
   "id": "7b8d42a4",
   "metadata": {},
   "outputs": [
    {
     "data": {
      "text/plain": [
       "300"
      ]
     },
     "execution_count": 1,
     "metadata": {},
     "output_type": "execute_result"
    }
   ],
   "source": [
    "a=100\n",
    "b=200\n",
    "\n",
    "a+b"
   ]
  },
  {
   "cell_type": "markdown",
   "id": "588f0cc2",
   "metadata": {},
   "source": [
    "# Pandas 라이브러리\n",
    "\n",
    "- Series 구조와 DataFrame구조 이해하기\n",
    "- Series 구조 : index(순서) - value(값) 구성되어 있는 데이터 구조\n",
    "               하나의 Series에 한 개의 데이터 타입만 올 수 있다. -> 쉽게 통계적인 연산을 위함"
   ]
  },
  {
   "cell_type": "code",
   "execution_count": 2,
   "id": "41c92e18",
   "metadata": {},
   "outputs": [],
   "source": [
    "import pandas #pandas 라이브러리를 호출한다"
   ]
  },
  {
   "cell_type": "code",
   "execution_count": 4,
   "id": "c7581814",
   "metadata": {},
   "outputs": [
    {
     "data": {
      "text/plain": [
       "0    10\n",
       "1    20\n",
       "2    30\n",
       "3    40\n",
       "dtype: int64"
      ]
     },
     "execution_count": 4,
     "metadata": {},
     "output_type": "execute_result"
    }
   ],
   "source": [
    "s1 = pandas.Series([10,20,30,40])\n",
    "s1"
   ]
  },
  {
   "cell_type": "code",
   "execution_count": 5,
   "id": "2cbb4318",
   "metadata": {},
   "outputs": [
    {
     "data": {
      "text/plain": [
       "100"
      ]
     },
     "execution_count": 5,
     "metadata": {},
     "output_type": "execute_result"
    }
   ],
   "source": [
    "s1.sum()"
   ]
  },
  {
   "cell_type": "code",
   "execution_count": 6,
   "id": "bcadb79f",
   "metadata": {},
   "outputs": [
    {
     "data": {
      "text/plain": [
       "0    10\n",
       "1    20\n",
       "2    30\n",
       "3     a\n",
       "dtype: object"
      ]
     },
     "execution_count": 6,
     "metadata": {},
     "output_type": "execute_result"
    }
   ],
   "source": [
    "s2 = pandas.Series([10,20,30,'a'])\n",
    "s2"
   ]
  },
  {
   "cell_type": "code",
   "execution_count": 8,
   "id": "3da61107",
   "metadata": {},
   "outputs": [
    {
     "data": {
      "text/plain": [
       "0    10\n",
       "1    20\n",
       "2    30\n",
       "3    40\n",
       "4    50\n",
       "dtype: int64"
      ]
     },
     "execution_count": 8,
     "metadata": {},
     "output_type": "execute_result"
    }
   ],
   "source": [
    "s3 = pandas.Series([10,20,30,40,50])\n",
    "s3"
   ]
  },
  {
   "cell_type": "code",
   "execution_count": 9,
   "id": "e2d763a3",
   "metadata": {},
   "outputs": [
    {
     "name": "stdout",
     "output_type": "stream",
     "text": [
      "150\n",
      "30.0\n",
      "10\n",
      "50\n"
     ]
    }
   ],
   "source": [
    "print(s3.sum())\n",
    "print(s3.mean())\n",
    "print(s3.min())\n",
    "print(s3.max())"
   ]
  },
  {
   "cell_type": "markdown",
   "id": "182c7db0",
   "metadata": {},
   "source": [
    "- DataFrame : index-column-value 의 구조\n",
    "              이름이라고 하는 시리즈, 나이라고 하는 시리즈"
   ]
  },
  {
   "cell_type": "code",
   "execution_count": 12,
   "id": "b79e3b4d",
   "metadata": {},
   "outputs": [],
   "source": [
    "df = pandas.DataFrame({'이름':['홍길동','이몽룡','성춘향'],\n",
    "                 '나이':[10,20,30,],\n",
    "                 '주소':['서울','경기','강원']})"
   ]
  },
  {
   "cell_type": "code",
   "execution_count": 14,
   "id": "2235c29d",
   "metadata": {},
   "outputs": [
    {
     "data": {
      "text/plain": [
       "0    홍길동\n",
       "1    이몽룡\n",
       "2    성춘향\n",
       "Name: 이름, dtype: object"
      ]
     },
     "execution_count": 14,
     "metadata": {},
     "output_type": "execute_result"
    }
   ],
   "source": [
    "df['이름']"
   ]
  },
  {
   "cell_type": "code",
   "execution_count": 15,
   "id": "75c37444",
   "metadata": {},
   "outputs": [
    {
     "data": {
      "text/plain": [
       "0    10\n",
       "1    20\n",
       "2    30\n",
       "Name: 나이, dtype: int64"
      ]
     },
     "execution_count": 15,
     "metadata": {},
     "output_type": "execute_result"
    }
   ],
   "source": [
    "df['나이']"
   ]
  },
  {
   "cell_type": "code",
   "execution_count": 16,
   "id": "20ad3051",
   "metadata": {},
   "outputs": [
    {
     "data": {
      "text/plain": [
       "20.0"
      ]
     },
     "execution_count": 16,
     "metadata": {},
     "output_type": "execute_result"
    }
   ],
   "source": [
    "df['나이'].mean()"
   ]
  },
  {
   "cell_type": "code",
   "execution_count": null,
   "id": "90926171",
   "metadata": {},
   "outputs": [],
   "source": []
  }
 ],
 "metadata": {
  "kernelspec": {
   "display_name": "Python 3 (ipykernel)",
   "language": "python",
   "name": "python3"
  },
  "language_info": {
   "codemirror_mode": {
    "name": "ipython",
    "version": 3
   },
   "file_extension": ".py",
   "mimetype": "text/x-python",
   "name": "python",
   "nbconvert_exporter": "python",
   "pygments_lexer": "ipython3",
   "version": "3.9.13"
  }
 },
 "nbformat": 4,
 "nbformat_minor": 5
}
