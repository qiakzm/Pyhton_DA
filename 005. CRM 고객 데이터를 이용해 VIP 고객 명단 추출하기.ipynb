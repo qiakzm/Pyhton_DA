{
 "cells": [
  {
   "cell_type": "code",
   "execution_count": 16,
   "id": "ab1ff8ab",
   "metadata": {},
   "outputs": [],
   "source": [
    "import pandas as pd"
   ]
  },
  {
   "cell_type": "code",
   "execution_count": 17,
   "id": "71fe0c15",
   "metadata": {},
   "outputs": [],
   "source": [
    "df1 = pd.read_csv('02_VIP_member_Data.csv')"
   ]
  },
  {
   "cell_type": "code",
   "execution_count": 18,
   "id": "4d91da32",
   "metadata": {},
   "outputs": [
    {
     "name": "stdout",
     "output_type": "stream",
     "text": [
      "<class 'pandas.core.frame.DataFrame'>\n",
      "RangeIndex: 6519 entries, 0 to 6518\n",
      "Data columns (total 11 columns):\n",
      " #   Column         Non-Null Count  Dtype  \n",
      "---  ------         --------------  -----  \n",
      " 0   ID             6519 non-null   int64  \n",
      " 1   State          6519 non-null   object \n",
      " 2   Address        6519 non-null   object \n",
      " 3   Gender         6518 non-null   object \n",
      " 4   Age            6518 non-null   float64\n",
      " 5   총구매금액          6519 non-null   int64  \n",
      " 6   총구매수량          6519 non-null   float64\n",
      " 7   1회방문시구매금액(평균)  6519 non-null   int64  \n",
      " 8   배송서비스신청여부      6519 non-null   object \n",
      " 9   모바일알람여부        6519 non-null   object \n",
      " 10  VIP회원          6519 non-null   object \n",
      "dtypes: float64(2), int64(3), object(6)\n",
      "memory usage: 560.4+ KB\n"
     ]
    }
   ],
   "source": [
    "# 데이터의 구조와 타입 확인\n",
    "df1.info()"
   ]
  },
  {
   "cell_type": "code",
   "execution_count": 19,
   "id": "e3dceb3d",
   "metadata": {},
   "outputs": [
    {
     "data": {
      "text/html": [
       "<div>\n",
       "<style scoped>\n",
       "    .dataframe tbody tr th:only-of-type {\n",
       "        vertical-align: middle;\n",
       "    }\n",
       "\n",
       "    .dataframe tbody tr th {\n",
       "        vertical-align: top;\n",
       "    }\n",
       "\n",
       "    .dataframe thead th {\n",
       "        text-align: right;\n",
       "    }\n",
       "</style>\n",
       "<table border=\"1\" class=\"dataframe\">\n",
       "  <thead>\n",
       "    <tr style=\"text-align: right;\">\n",
       "      <th></th>\n",
       "      <th>ID</th>\n",
       "      <th>State</th>\n",
       "      <th>Address</th>\n",
       "      <th>Gender</th>\n",
       "      <th>Age</th>\n",
       "      <th>총구매금액</th>\n",
       "      <th>총구매수량</th>\n",
       "      <th>1회방문시구매금액(평균)</th>\n",
       "      <th>배송서비스신청여부</th>\n",
       "      <th>모바일알람여부</th>\n",
       "      <th>VIP회원</th>\n",
       "    </tr>\n",
       "  </thead>\n",
       "  <tbody>\n",
       "    <tr>\n",
       "      <th>0</th>\n",
       "      <td>272369856</td>\n",
       "      <td>정상회원</td>\n",
       "      <td>수지구</td>\n",
       "      <td>여</td>\n",
       "      <td>45.0</td>\n",
       "      <td>5733884</td>\n",
       "      <td>546.5</td>\n",
       "      <td>47782</td>\n",
       "      <td>미신청</td>\n",
       "      <td>수신</td>\n",
       "      <td>VIP</td>\n",
       "    </tr>\n",
       "    <tr>\n",
       "      <th>1</th>\n",
       "      <td>1506656256</td>\n",
       "      <td>정상회원</td>\n",
       "      <td>수지구</td>\n",
       "      <td>여</td>\n",
       "      <td>36.0</td>\n",
       "      <td>673414</td>\n",
       "      <td>90.0</td>\n",
       "      <td>35443</td>\n",
       "      <td>미신청</td>\n",
       "      <td>.</td>\n",
       "      <td>normal</td>\n",
       "    </tr>\n",
       "    <tr>\n",
       "      <th>2</th>\n",
       "      <td>1476143616</td>\n",
       "      <td>정상회원</td>\n",
       "      <td>수지구</td>\n",
       "      <td>여</td>\n",
       "      <td>34.0</td>\n",
       "      <td>655919</td>\n",
       "      <td>66.0</td>\n",
       "      <td>46851</td>\n",
       "      <td>미신청</td>\n",
       "      <td>.</td>\n",
       "      <td>normal</td>\n",
       "    </tr>\n",
       "    <tr>\n",
       "      <th>3</th>\n",
       "      <td>716128320</td>\n",
       "      <td>정상회원</td>\n",
       "      <td>수지구</td>\n",
       "      <td>여</td>\n",
       "      <td>51.0</td>\n",
       "      <td>2984534</td>\n",
       "      <td>252.1</td>\n",
       "      <td>48138</td>\n",
       "      <td>미신청</td>\n",
       "      <td>.</td>\n",
       "      <td>normal</td>\n",
       "    </tr>\n",
       "    <tr>\n",
       "      <th>4</th>\n",
       "      <td>743192512</td>\n",
       "      <td>정상회원</td>\n",
       "      <td>수지구</td>\n",
       "      <td>여</td>\n",
       "      <td>51.0</td>\n",
       "      <td>1901488</td>\n",
       "      <td>152.0</td>\n",
       "      <td>158457</td>\n",
       "      <td>신청</td>\n",
       "      <td>.</td>\n",
       "      <td>normal</td>\n",
       "    </tr>\n",
       "  </tbody>\n",
       "</table>\n",
       "</div>"
      ],
      "text/plain": [
       "           ID State Address Gender   Age    총구매금액  총구매수량  1회방문시구매금액(평균)  \\\n",
       "0   272369856  정상회원     수지구      여  45.0  5733884  546.5          47782   \n",
       "1  1506656256  정상회원     수지구      여  36.0   673414   90.0          35443   \n",
       "2  1476143616  정상회원     수지구      여  34.0   655919   66.0          46851   \n",
       "3   716128320  정상회원     수지구      여  51.0  2984534  252.1          48138   \n",
       "4   743192512  정상회원     수지구      여  51.0  1901488  152.0         158457   \n",
       "\n",
       "  배송서비스신청여부 모바일알람여부   VIP회원  \n",
       "0       미신청      수신     VIP  \n",
       "1       미신청       .  normal  \n",
       "2       미신청       .  normal  \n",
       "3       미신청       .  normal  \n",
       "4        신청       .  normal  "
      ]
     },
     "execution_count": 19,
     "metadata": {},
     "output_type": "execute_result"
    }
   ],
   "source": [
    "df1.head()"
   ]
  },
  {
   "cell_type": "code",
   "execution_count": 20,
   "id": "8ef8f916",
   "metadata": {},
   "outputs": [],
   "source": [
    "cond1 = df1['VIP회원']=='VIP'\n",
    "cond2 = df1['모바일알람여부']=='수신'\n",
    "df_vip = df1.loc[cond1 & cond2]"
   ]
  },
  {
   "cell_type": "code",
   "execution_count": 21,
   "id": "a00c206f",
   "metadata": {},
   "outputs": [],
   "source": [
    "#데이터 파일로 저장하기.\n",
    "df_vip.to_excel('vip_member.xlsx')"
   ]
  },
  {
   "cell_type": "code",
   "execution_count": 22,
   "id": "a7b23dbe",
   "metadata": {},
   "outputs": [],
   "source": [
    "cond1 = (df1['VIP회원'] == 'VIP')\n",
    "df_vip2 = df1.loc[cond1].sort_values(by='총구매금액').head(10)"
   ]
  },
  {
   "cell_type": "code",
   "execution_count": 23,
   "id": "a6a8fbe5",
   "metadata": {},
   "outputs": [],
   "source": [
    "df_vip2.to_excel('vip_number2.xlsx')"
   ]
  },
  {
   "cell_type": "code",
   "execution_count": 24,
   "id": "1d9b1e03",
   "metadata": {},
   "outputs": [
    {
     "data": {
      "text/plain": [
       "수지구       4445\n",
       "기타         728\n",
       "기흥구        405\n",
       "분당구        404\n",
       "수원 영통구     143\n",
       "서울 강남구     114\n",
       "서울 송파구      72\n",
       "화성          49\n",
       "처인구         43\n",
       "광주          37\n",
       "수정구         19\n",
       "중원구         17\n",
       "수원 장안구      15\n",
       "수원 팔달구      14\n",
       "수원 권선구      11\n",
       "하남           3\n",
       "Name: Address, dtype: int64"
      ]
     },
     "execution_count": 24,
     "metadata": {},
     "output_type": "execute_result"
    }
   ],
   "source": [
    "df1['Address'].value_counts()"
   ]
  },
  {
   "cell_type": "code",
   "execution_count": 25,
   "id": "8adcea29",
   "metadata": {},
   "outputs": [
    {
     "name": "stdout",
     "output_type": "stream",
     "text": [
      "주소를 입력하시오 : 수지구\n"
     ]
    }
   ],
   "source": [
    "#특정 주소에 사는 vip 회원 데이터\n",
    "value1 = input('주소를 입력하시오 : ')\n",
    "\n",
    "cond1 = df1['VIP회원']=='VIP'\n",
    "cond2 = df1['Address']==value1\n",
    "\n",
    "df1.loc[cond1 & cond2].to_excel('vip_member3.xlsx')"
   ]
  },
  {
   "cell_type": "code",
   "execution_count": 26,
   "id": "38103758",
   "metadata": {},
   "outputs": [
    {
     "data": {
      "text/html": [
       "<div>\n",
       "<style scoped>\n",
       "    .dataframe tbody tr th:only-of-type {\n",
       "        vertical-align: middle;\n",
       "    }\n",
       "\n",
       "    .dataframe tbody tr th {\n",
       "        vertical-align: top;\n",
       "    }\n",
       "\n",
       "    .dataframe thead th {\n",
       "        text-align: right;\n",
       "    }\n",
       "</style>\n",
       "<table border=\"1\" class=\"dataframe\">\n",
       "  <thead>\n",
       "    <tr style=\"text-align: right;\">\n",
       "      <th></th>\n",
       "      <th>ID</th>\n",
       "      <th>State</th>\n",
       "      <th>Address</th>\n",
       "      <th>Gender</th>\n",
       "      <th>Age</th>\n",
       "      <th>총구매금액</th>\n",
       "      <th>총구매수량</th>\n",
       "      <th>1회방문시구매금액(평균)</th>\n",
       "      <th>배송서비스신청여부</th>\n",
       "      <th>모바일알람여부</th>\n",
       "      <th>VIP회원</th>\n",
       "    </tr>\n",
       "  </thead>\n",
       "  <tbody>\n",
       "    <tr>\n",
       "      <th>0</th>\n",
       "      <td>272369856</td>\n",
       "      <td>정상회원</td>\n",
       "      <td>수지구</td>\n",
       "      <td>여</td>\n",
       "      <td>45.0</td>\n",
       "      <td>5733884</td>\n",
       "      <td>546.5</td>\n",
       "      <td>47782</td>\n",
       "      <td>미신청</td>\n",
       "      <td>수신</td>\n",
       "      <td>VIP</td>\n",
       "    </tr>\n",
       "    <tr>\n",
       "      <th>1</th>\n",
       "      <td>1506656256</td>\n",
       "      <td>정상회원</td>\n",
       "      <td>수지구</td>\n",
       "      <td>여</td>\n",
       "      <td>36.0</td>\n",
       "      <td>673414</td>\n",
       "      <td>90.0</td>\n",
       "      <td>35443</td>\n",
       "      <td>미신청</td>\n",
       "      <td>.</td>\n",
       "      <td>normal</td>\n",
       "    </tr>\n",
       "    <tr>\n",
       "      <th>2</th>\n",
       "      <td>1476143616</td>\n",
       "      <td>정상회원</td>\n",
       "      <td>수지구</td>\n",
       "      <td>여</td>\n",
       "      <td>34.0</td>\n",
       "      <td>655919</td>\n",
       "      <td>66.0</td>\n",
       "      <td>46851</td>\n",
       "      <td>미신청</td>\n",
       "      <td>.</td>\n",
       "      <td>normal</td>\n",
       "    </tr>\n",
       "    <tr>\n",
       "      <th>3</th>\n",
       "      <td>716128320</td>\n",
       "      <td>정상회원</td>\n",
       "      <td>수지구</td>\n",
       "      <td>여</td>\n",
       "      <td>51.0</td>\n",
       "      <td>2984534</td>\n",
       "      <td>252.1</td>\n",
       "      <td>48138</td>\n",
       "      <td>미신청</td>\n",
       "      <td>.</td>\n",
       "      <td>normal</td>\n",
       "    </tr>\n",
       "    <tr>\n",
       "      <th>4</th>\n",
       "      <td>743192512</td>\n",
       "      <td>정상회원</td>\n",
       "      <td>수지구</td>\n",
       "      <td>여</td>\n",
       "      <td>51.0</td>\n",
       "      <td>1901488</td>\n",
       "      <td>152.0</td>\n",
       "      <td>158457</td>\n",
       "      <td>신청</td>\n",
       "      <td>.</td>\n",
       "      <td>normal</td>\n",
       "    </tr>\n",
       "  </tbody>\n",
       "</table>\n",
       "</div>"
      ],
      "text/plain": [
       "           ID State Address Gender   Age    총구매금액  총구매수량  1회방문시구매금액(평균)  \\\n",
       "0   272369856  정상회원     수지구      여  45.0  5733884  546.5          47782   \n",
       "1  1506656256  정상회원     수지구      여  36.0   673414   90.0          35443   \n",
       "2  1476143616  정상회원     수지구      여  34.0   655919   66.0          46851   \n",
       "3   716128320  정상회원     수지구      여  51.0  2984534  252.1          48138   \n",
       "4   743192512  정상회원     수지구      여  51.0  1901488  152.0         158457   \n",
       "\n",
       "  배송서비스신청여부 모바일알람여부   VIP회원  \n",
       "0       미신청      수신     VIP  \n",
       "1       미신청       .  normal  \n",
       "2       미신청       .  normal  \n",
       "3       미신청       .  normal  \n",
       "4        신청       .  normal  "
      ]
     },
     "execution_count": 26,
     "metadata": {},
     "output_type": "execute_result"
    }
   ],
   "source": [
    "df1.head()"
   ]
  },
  {
   "cell_type": "code",
   "execution_count": 28,
   "id": "064ee5ef",
   "metadata": {},
   "outputs": [
    {
     "name": "stdout",
     "output_type": "stream",
     "text": [
      "연령 범위를 입력(최소값) : 40\n",
      "연령 범위를 입력(최대값) : 50\n"
     ]
    }
   ],
   "source": [
    "value1 = int(input('연령 범위를 입력(최소값) : '))\n",
    "value2 = int(input('연령 범위를 입력(최대값) : '))\n",
    "\n",
    "cond1 = (df1['Age'] >= value1) & (df1['Age'] <= value2)\n",
    "cond2 = (df1['VIP회원'] == 'VIP')\n",
    "\n",
    "df1.loc[cond1 & cond2].sort_values(by='총구매금액', ascending=False).to_excel('vip_age_member.xlsx')"
   ]
  },
  {
   "cell_type": "code",
   "execution_count": 33,
   "id": "d0a77585",
   "metadata": {},
   "outputs": [],
   "source": [
    "# 총 구매수량이 100건 이사인 고객 명단 추출\n",
    "# 총 구매 금액이 높은 순서대로 정렬 후 상위 50명\n",
    "# 데이터 파일 저장 -> 송부\n",
    "\n",
    "cond1 = df1['총구매수량'] >= 100\n",
    "\n",
    "df2 = df1.loc[cond1].sort_values(by='총구매금액', ascending=False).head(50)\n",
    "\n",
    "df2.to_excel('top_sales_member.xlsx')"
   ]
  },
  {
   "cell_type": "code",
   "execution_count": 38,
   "id": "2adeaca6",
   "metadata": {},
   "outputs": [
    {
     "data": {
      "text/plain": [
       "normal    4353\n",
       "VIP         92\n",
       "Name: VIP회원, dtype: int64"
      ]
     },
     "execution_count": 38,
     "metadata": {},
     "output_type": "execute_result"
    }
   ],
   "source": [
    "# Address항목에서 '수지구'에 사는 고객들의 VIP와 Member수를 확인\n",
    "\n",
    "cond1 = df1['Address']=='수지구'\n",
    "df2 = df1.loc[cond1]\n",
    "df2['VIP회원'].value_counts()"
   ]
  },
  {
   "cell_type": "code",
   "execution_count": 39,
   "id": "a2776668",
   "metadata": {},
   "outputs": [
    {
     "data": {
      "text/plain": [
       "normal    411\n",
       "VIP         7\n",
       "Name: VIP회원, dtype: int64"
      ]
     },
     "execution_count": 39,
     "metadata": {},
     "output_type": "execute_result"
    }
   ],
   "source": [
    "# Gender 항목에 '남성' 고객들의 VIP와 Member 수를 확인\n",
    "\n",
    "cond1 = df1['Gender']=='남'\n",
    "df2 = df1.loc[cond1]\n",
    "df2['VIP회원'].value_counts()"
   ]
  },
  {
   "cell_type": "code",
   "execution_count": 42,
   "id": "1b4dd394",
   "metadata": {},
   "outputs": [
    {
     "name": "stdout",
     "output_type": "stream",
     "text": [
      "배송서비스신청여부 : 신청\n"
     ]
    }
   ],
   "source": [
    "# 배송서비스신청여부를 '신청' 또는 '미신청' 값을 입력하여,\n",
    "# 총구매수량이 높은 상위 100명의 명단을 엑셀 파일로 추출\n",
    "\n",
    "value1 = input('배송서비스신청여부 : ')\n",
    "\n",
    "cond1 = df1['배송서비스신청여부']==value1\n",
    "\n",
    "df1.loc[cond1].sort_values(by='총구매수량', ascending=False).head(100).to_excel('delivery_member.xlsx')"
   ]
  },
  {
   "cell_type": "code",
   "execution_count": null,
   "id": "6b9d9931",
   "metadata": {},
   "outputs": [],
   "source": []
  }
 ],
 "metadata": {
  "kernelspec": {
   "display_name": "Python 3 (ipykernel)",
   "language": "python",
   "name": "python3"
  },
  "language_info": {
   "codemirror_mode": {
    "name": "ipython",
    "version": 3
   },
   "file_extension": ".py",
   "mimetype": "text/x-python",
   "name": "python",
   "nbconvert_exporter": "python",
   "pygments_lexer": "ipython3",
   "version": "3.9.13"
  }
 },
 "nbformat": 4,
 "nbformat_minor": 5
}
